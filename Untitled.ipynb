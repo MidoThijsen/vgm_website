{
 "cells": [
  {
   "cell_type": "code",
   "execution_count": null,
   "id": "38143be4-1e02-42c9-a0a3-f21ef9f5d30a",
   "metadata": {},
   "outputs": [],
   "source": [
    "pip install flask selenium apscheduler requests\n"
   ]
  },
  {
   "cell_type": "code",
   "execution_count": null,
   "id": "b0b28a4d-e1de-4101-93ec-5fb9a22beccb",
   "metadata": {},
   "outputs": [
    {
     "name": "stdout",
     "output_type": "stream",
     "text": [
      "Opening URL: https://propertynl.com/\n",
      "Waiting for elements to appear using selector: div.column.column_2_3 ul li h2 a\n",
      "Closing the driver...\n",
      "Opening URL: https://www.nu.nl/\n",
      "Waiting for elements to appear using selector: #main ul li a div.item-title span span\n",
      "Closing the driver...\n",
      "Opening URL: https://www.volkskrant.nl/\n",
      "Waiting for elements to appear using selector: #main-content article.wl-tile a header h3 span.teaser__title__value--long strong\n",
      "Closing the driver...\n",
      "Opening URL: https://nos.nl/\n",
      "Waiting for elements to appear using selector: #content ul li a div h2\n",
      "Closing the driver...\n",
      "Opening URL: https://vastgoedjournaal.nl/\n",
      "Waiting for elements to appear using selector: #articles a article div.article-grid-item-right div\n",
      "Closing the driver...\n",
      " * Serving Flask app '__main__'\n",
      " * Debug mode: off\n"
     ]
    },
    {
     "name": "stderr",
     "output_type": "stream",
     "text": [
      "WARNING: This is a development server. Do not use it in a production deployment. Use a production WSGI server instead.\n",
      " * Running on http://127.0.0.1:5000\n",
      "Press CTRL+C to quit\n",
      "127.0.0.1 - - [16/Sep/2024 15:48:23] \"GET / HTTP/1.1\" 200 -\n"
     ]
    }
   ],
   "source": [
    "exec(open(\"app.py\").read())"
   ]
  },
  {
   "cell_type": "code",
   "execution_count": 3,
   "id": "e233456a-1798-4f1f-98e1-8e3f9c557b10",
   "metadata": {},
   "outputs": [
    {
     "name": "stdout",
     "output_type": "stream",
     "text": [
      "Note: you may need to restart the kernel to use updated packages.\n"
     ]
    }
   ],
   "source": [
    "pip freeze > requirements.txt"
   ]
  }
 ],
 "metadata": {
  "kernelspec": {
   "display_name": "Python 3 (ipykernel)",
   "language": "python",
   "name": "python3"
  },
  "language_info": {
   "codemirror_mode": {
    "name": "ipython",
    "version": 3
   },
   "file_extension": ".py",
   "mimetype": "text/x-python",
   "name": "python",
   "nbconvert_exporter": "python",
   "pygments_lexer": "ipython3",
   "version": "3.11.7"
  }
 },
 "nbformat": 4,
 "nbformat_minor": 5
}
